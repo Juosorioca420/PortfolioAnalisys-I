{
 "cells": [
  {
   "cell_type": "markdown",
   "metadata": {},
   "source": [
    "# Interactive Plotting and Monte Carlo Simulations of CPPI"
   ]
  },
  {
   "cell_type": "code",
   "execution_count": 1,
   "metadata": {},
   "outputs": [],
   "source": [
    "import ipywidgets as widgets\n",
    "from IPython.display import display\n",
    "\n",
    "import matplotlib.pyplot as plt\n",
    "\n",
    "import pandas as pd\n",
    "import numpy as np\n",
    "\n",
    "import kit as erk\n",
    "%load_ext autoreload\n",
    "%autoreload 2"
   ]
  },
  {
   "cell_type": "markdown",
   "metadata": {},
   "source": [
    "### GBM Simulations"
   ]
  },
  {
   "cell_type": "code",
   "execution_count": 2,
   "metadata": {},
   "outputs": [],
   "source": [
    "def show_gbm(n_scenarios, mu, sigma):\n",
    "    \"\"\"\n",
    "    Draw the results of a stock price evolution under a Geometric Brownian Motion model\n",
    "    \"\"\"\n",
    "    S0 = 100\n",
    "    prices = erk.gbm(n_scenarios=n_scenarios, mu=mu, sigma=sigma, S0 = S0 )\n",
    "\n",
    "    ax = prices.plot(legend=False, color=\"darkorange\", alpha = 0.5, linewidth=2, figsize=(12,5))\n",
    "    ax.axhline(y = S0, ls=\":\", color=\"black\")\n",
    "\n",
    "    # Draw a dot at the origin\n",
    "    ax.plot(0,S0 , marker='o',color='darkred', alpha=0.2)\n"
   ]
  },
  {
   "cell_type": "code",
   "execution_count": 3,
   "metadata": {},
   "outputs": [],
   "source": [
    "gbm_controls = widgets.interactive(show_gbm, \n",
    "                                   n_scenarios = widgets.IntSlider(min = 1, max = 100, step=1, value=1), \n",
    "                                   mu = (0, 0.2, 0.01),\n",
    "                                   sigma = (0, 0.3, 0.01)\n",
    ")"
   ]
  },
  {
   "cell_type": "code",
   "execution_count": 4,
   "metadata": {},
   "outputs": [
    {
     "data": {
      "application/vnd.jupyter.widget-view+json": {
       "model_id": "edac73a0e5394e5788ccf8226ece5e40",
       "version_major": 2,
       "version_minor": 0
      },
      "text/plain": [
       "interactive(children=(IntSlider(value=1, description='n_scenarios', min=1), FloatSlider(value=0.1, description…"
      ]
     },
     "metadata": {},
     "output_type": "display_data"
    }
   ],
   "source": [
    "display(gbm_controls)"
   ]
  },
  {
   "cell_type": "markdown",
   "metadata": {},
   "source": [
    "### Interactive CPPI Monte Carlo Testing"
   ]
  },
  {
   "cell_type": "code",
   "execution_count": 5,
   "metadata": {},
   "outputs": [
    {
     "data": {
      "application/vnd.jupyter.widget-view+json": {
       "model_id": "a08501e9c62240f1bfc5b6eb50a28055",
       "version_major": 2,
       "version_minor": 0
      },
      "text/plain": [
       "interactive(children=(IntSlider(value=50, description='n_scenarios', max=1000, min=1, step=5), FloatSlider(val…"
      ]
     },
     "metadata": {},
     "output_type": "display_data"
    }
   ],
   "source": [
    "def show_cppi(n_scenarios = 50, mu = 0.07, sigma = 0.15, m = 3, floor = 0, riskfree_rate = 0.03, y_max = 100, steps_per_year = 12):\n",
    "    \"\"\"\n",
    "    Plot the results of a Monte Carlo Simulation of CPPI\n",
    "\n",
    "        - n : total scenarios \n",
    "        - mu : weighted avg. of portfolio returns \n",
    "        - sigma : weighted volatility of portfolio\n",
    "        - m : Risky asset multiplier\n",
    "        - floor : maximun acetable proportion of losses by initial investment [S0]\n",
    "        - R_f : risk free rate (Treasury Bond)\n",
    "        - y_max : plot y axis scale\n",
    "        - steps_per_year : CPPI portfolio actualization frequency. ( default: monthly )\n",
    "    \"\"\"\n",
    "    S0  = 100 # Nominal Inicial\n",
    "    sim_rets = erk.gbm(n_scenarios = n_scenarios, mu = mu, sigma = sigma, prices = False, steps_per_year = steps_per_year)\n",
    "    risky_r = pd.DataFrame(sim_rets) # Retornos generados con mov. Borowniano\n",
    "\n",
    "\n",
    "\n",
    "\n",
    "    # Run the back-test\n",
    "\n",
    "    btr = erk.run_cppi(risky_r = pd.DataFrame(risky_r), riskfree_rate = riskfree_rate, m = m, start = S0 , floor=floor)\n",
    "    wealth = btr[\"Wealth\"]\n",
    "    y_max = wealth.values.max()*y_max/100 # y axis Zoom\n",
    "\n",
    "\n",
    "\n",
    "    # Calculate terminal wealth stats\n",
    "\n",
    "    terminal_wealth = wealth.iloc[-1]\n",
    "    \n",
    "    tw_mean = terminal_wealth.mean()  # ret. promedio\n",
    "    tw_median = terminal_wealth.median() # ret. medio\n",
    "\n",
    "    fail = np.less(terminal_wealth, S0*floor)\n",
    "    n_failures = fail.sum()\n",
    "    p_fail = n_failures/n_scenarios\n",
    "\n",
    "    avg_shortfall = np.dot( terminal_wealth - S0 * floor,  fail ) / n_failures if (n_failures > 0) else 0\n",
    "\n",
    "    \n",
    "\n",
    "    # Plot\n",
    "\n",
    "    fig, (wealth_ax, hist_ax) = plt.subplots(nrows = 1, ncols = 2, sharey = True, gridspec_kw={'width_ratios':[3,2]}, figsize=(24, 9))\n",
    "    plt.subplots_adjust(wspace=0.0) # Adjacent plots\n",
    "    \n",
    "    wealth.plot(ax=wealth_ax, legend=False, alpha=0.3, color=\"darkorange\")\n",
    "    wealth_ax.axhline(y= S0, ls=\":\", color=\"black\")\n",
    "    wealth_ax.axhline(y= S0*floor, ls=\"--\", color=\"limegreen\")\n",
    "    wealth_ax.set_ylim(top=y_max)\n",
    "\n",
    "\n",
    "    \n",
    "    terminal_wealth.plot.hist(ax = hist_ax, bins=50, ec='w', fc='darkorange', orientation='horizontal', alpha = 0.8)\n",
    "    hist_ax.axhline(y= S0, ls=\":\", color=\"black\")\n",
    "    hist_ax.axhline(y= tw_mean, ls=\"--\", color=\"blue\")\n",
    "    hist_ax.axhline(y= tw_median, ls=\"--\", color=\"indigo\")\n",
    "\n",
    "\n",
    "\n",
    "    hist_ax.annotate(f\"Mean: ${int(tw_mean)}\", xy=(.6, .9),xycoords='axes fraction', fontsize= 14, color = 'blue')\n",
    "    hist_ax.annotate(f\"Median: ${int(tw_median)}\", xy=(.6, .85),xycoords='axes fraction', fontsize= 14, color = 'indigo')\n",
    "    \n",
    "    if (floor > 0.01):\n",
    "        hist_ax.axhline(y=S0*floor, ls=\"--\", color=\"red\", linewidth=3)\n",
    "        hist_ax.annotate(f'Violations: {n_failures} [{p_fail*100:2.2f}%]\\nE(shortfall): ${avg_shortfall:2.2f}', xy=(.6, .7), xycoords='axes fraction', fontsize= 14)\n",
    "\n",
    "\n",
    "\n",
    "cppi_controls = widgets.interactive(show_cppi, \n",
    "                                   n_scenarios=widgets.IntSlider(min=1, max=1000, step=5, value=50), \n",
    "                                   mu=(-0.2, 0.2, 0.01),\n",
    "                                   sigma=(0, 0.30, 0.05),\n",
    "                                   floor=(0, 2, 0.1),\n",
    "                                   m=(1, 5, 0.5),\n",
    "                                   riskfree_rate=(0, 0.05, 0.01),\n",
    "                                   y_max = widgets.IntSlider(min=0, max=100, step=1, value=100, description=\"Zoom y axis\"),\n",
    "                                   steps_per_year = widgets.IntSlider(min=1, max=12, step=1, value=12, description=\"Periods per Year\")\n",
    "                             )\n",
    "display(cppi_controls)"
   ]
  }
 ],
 "metadata": {
  "kernelspec": {
   "display_name": "Python 3",
   "language": "python",
   "name": "python3"
  },
  "language_info": {
   "codemirror_mode": {
    "name": "ipython",
    "version": 3
   },
   "file_extension": ".py",
   "mimetype": "text/x-python",
   "name": "python",
   "nbconvert_exporter": "python",
   "pygments_lexer": "ipython3",
   "version": "3.11.4"
  }
 },
 "nbformat": 4,
 "nbformat_minor": 4
}
