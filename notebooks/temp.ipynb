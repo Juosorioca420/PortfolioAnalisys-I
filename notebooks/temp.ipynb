{
 "cells": [
  {
   "cell_type": "code",
   "execution_count": 3,
   "metadata": {},
   "outputs": [],
   "source": [
    "import numpy as np\n",
    "\n",
    "import pandas as pd\n",
    "# Setting this option will print all collumns of a dataframe\n",
    "pd.set_option('display.max_columns', None)\n",
    "# Setting this option will print all of the data in a feature\n",
    "pd.set_option('display.max_colwidth', None)\n",
    "\n",
    "import kit as k    "
   ]
  },
  {
   "cell_type": "code",
   "execution_count": 4,
   "metadata": {},
   "outputs": [
    {
     "data": {
      "text/html": [
       "<div>\n",
       "<style scoped>\n",
       "    .dataframe tbody tr th:only-of-type {\n",
       "        vertical-align: middle;\n",
       "    }\n",
       "\n",
       "    .dataframe tbody tr th {\n",
       "        vertical-align: top;\n",
       "    }\n",
       "\n",
       "    .dataframe thead th {\n",
       "        text-align: right;\n",
       "    }\n",
       "</style>\n",
       "<table border=\"1\" class=\"dataframe\">\n",
       "  <thead>\n",
       "    <tr style=\"text-align: right;\">\n",
       "      <th></th>\n",
       "      <th>Convertible Arbitrage</th>\n",
       "      <th>CTA Global</th>\n",
       "      <th>Distressed Securities</th>\n",
       "      <th>Emerging Markets</th>\n",
       "      <th>Equity Market Neutral</th>\n",
       "      <th>Event Driven</th>\n",
       "      <th>Fixed Income Arbitrage</th>\n",
       "      <th>Global Macro</th>\n",
       "      <th>Long/Short Equity</th>\n",
       "      <th>Merger Arbitrage</th>\n",
       "      <th>Relative Value</th>\n",
       "      <th>Short Selling</th>\n",
       "      <th>Funds Of Funds</th>\n",
       "    </tr>\n",
       "    <tr>\n",
       "      <th>date</th>\n",
       "      <th></th>\n",
       "      <th></th>\n",
       "      <th></th>\n",
       "      <th></th>\n",
       "      <th></th>\n",
       "      <th></th>\n",
       "      <th></th>\n",
       "      <th></th>\n",
       "      <th></th>\n",
       "      <th></th>\n",
       "      <th></th>\n",
       "      <th></th>\n",
       "      <th></th>\n",
       "    </tr>\n",
       "  </thead>\n",
       "  <tbody>\n",
       "    <tr>\n",
       "      <th>2000-01</th>\n",
       "      <td>0.0227</td>\n",
       "      <td>0.0128</td>\n",
       "      <td>0.0088</td>\n",
       "      <td>0.0077</td>\n",
       "      <td>0.0075</td>\n",
       "      <td>0.0088</td>\n",
       "      <td>0.0041</td>\n",
       "      <td>0.0021</td>\n",
       "      <td>0.0075</td>\n",
       "      <td>0.0143</td>\n",
       "      <td>0.0173</td>\n",
       "      <td>0.0427</td>\n",
       "      <td>0.0169</td>\n",
       "    </tr>\n",
       "    <tr>\n",
       "      <th>2000-02</th>\n",
       "      <td>0.0267</td>\n",
       "      <td>-0.0022</td>\n",
       "      <td>0.0421</td>\n",
       "      <td>0.0528</td>\n",
       "      <td>0.0253</td>\n",
       "      <td>0.0346</td>\n",
       "      <td>0.0097</td>\n",
       "      <td>0.0408</td>\n",
       "      <td>0.0699</td>\n",
       "      <td>0.0239</td>\n",
       "      <td>0.0185</td>\n",
       "      <td>-0.1340</td>\n",
       "      <td>0.0666</td>\n",
       "    </tr>\n",
       "    <tr>\n",
       "      <th>2000-03</th>\n",
       "      <td>0.0243</td>\n",
       "      <td>-0.0138</td>\n",
       "      <td>0.0103</td>\n",
       "      <td>0.0318</td>\n",
       "      <td>0.0134</td>\n",
       "      <td>0.0069</td>\n",
       "      <td>-0.0061</td>\n",
       "      <td>-0.0104</td>\n",
       "      <td>0.0006</td>\n",
       "      <td>0.0131</td>\n",
       "      <td>0.0163</td>\n",
       "      <td>-0.0230</td>\n",
       "      <td>0.0039</td>\n",
       "    </tr>\n",
       "  </tbody>\n",
       "</table>\n",
       "</div>"
      ],
      "text/plain": [
       "         Convertible Arbitrage  CTA Global  Distressed Securities  \\\n",
       "date                                                                \n",
       "2000-01                 0.0227      0.0128                 0.0088   \n",
       "2000-02                 0.0267     -0.0022                 0.0421   \n",
       "2000-03                 0.0243     -0.0138                 0.0103   \n",
       "\n",
       "         Emerging Markets  Equity Market Neutral  Event Driven  \\\n",
       "date                                                             \n",
       "2000-01            0.0077                 0.0075        0.0088   \n",
       "2000-02            0.0528                 0.0253        0.0346   \n",
       "2000-03            0.0318                 0.0134        0.0069   \n",
       "\n",
       "         Fixed Income Arbitrage  Global Macro  Long/Short Equity  \\\n",
       "date                                                               \n",
       "2000-01                  0.0041        0.0021             0.0075   \n",
       "2000-02                  0.0097        0.0408             0.0699   \n",
       "2000-03                 -0.0061       -0.0104             0.0006   \n",
       "\n",
       "         Merger Arbitrage  Relative Value  Short Selling  Funds Of Funds  \n",
       "date                                                                      \n",
       "2000-01            0.0143          0.0173         0.0427          0.0169  \n",
       "2000-02            0.0239          0.0185        -0.1340          0.0666  \n",
       "2000-03            0.0131          0.0163        -0.0230          0.0039  "
      ]
     },
     "execution_count": 4,
     "metadata": {},
     "output_type": "execute_result"
    }
   ],
   "source": [
    "df = k.get_hfi_returns()\n",
    "df = df[\"2000\":]\n",
    "\n",
    "df.head(3)"
   ]
  },
  {
   "cell_type": "code",
   "execution_count": 25,
   "metadata": {},
   "outputs": [
    {
     "data": {
      "text/html": [
       "<div>\n",
       "<style scoped>\n",
       "    .dataframe tbody tr th:only-of-type {\n",
       "        vertical-align: middle;\n",
       "    }\n",
       "\n",
       "    .dataframe tbody tr th {\n",
       "        vertical-align: top;\n",
       "    }\n",
       "\n",
       "    .dataframe thead th {\n",
       "        text-align: right;\n",
       "    }\n",
       "</style>\n",
       "<table border=\"1\" class=\"dataframe\">\n",
       "  <thead>\n",
       "    <tr style=\"text-align: right;\">\n",
       "      <th></th>\n",
       "      <th>Food</th>\n",
       "      <th>Beer</th>\n",
       "      <th>Smoke</th>\n",
       "      <th>Games</th>\n",
       "      <th>Books</th>\n",
       "      <th>Hshld</th>\n",
       "      <th>Clths</th>\n",
       "      <th>Hlth</th>\n",
       "      <th>Chems</th>\n",
       "      <th>Txtls</th>\n",
       "      <th>Cnstr</th>\n",
       "      <th>Steel</th>\n",
       "      <th>FabPr</th>\n",
       "      <th>ElcEq</th>\n",
       "      <th>Autos</th>\n",
       "      <th>Carry</th>\n",
       "      <th>Mines</th>\n",
       "      <th>Coal</th>\n",
       "      <th>Oil</th>\n",
       "      <th>Util</th>\n",
       "      <th>Telcm</th>\n",
       "      <th>Servs</th>\n",
       "      <th>BusEq</th>\n",
       "      <th>Paper</th>\n",
       "      <th>Trans</th>\n",
       "      <th>Whlsl</th>\n",
       "      <th>Rtail</th>\n",
       "      <th>Meals</th>\n",
       "      <th>Fin</th>\n",
       "      <th>Other</th>\n",
       "    </tr>\n",
       "  </thead>\n",
       "  <tbody>\n",
       "    <tr>\n",
       "      <th>1926-07</th>\n",
       "      <td>0.0056</td>\n",
       "      <td>-0.0519</td>\n",
       "      <td>0.0129</td>\n",
       "      <td>0.0293</td>\n",
       "      <td>0.1097</td>\n",
       "      <td>-0.0048</td>\n",
       "      <td>0.0808</td>\n",
       "      <td>0.0177</td>\n",
       "      <td>0.0814</td>\n",
       "      <td>0.0039</td>\n",
       "      <td>0.0207</td>\n",
       "      <td>0.0407</td>\n",
       "      <td>0.0543</td>\n",
       "      <td>0.0318</td>\n",
       "      <td>0.1639</td>\n",
       "      <td>0.0102</td>\n",
       "      <td>0.0564</td>\n",
       "      <td>0.0154</td>\n",
       "      <td>-0.0140</td>\n",
       "      <td>0.0704</td>\n",
       "      <td>0.0083</td>\n",
       "      <td>0.0922</td>\n",
       "      <td>0.0206</td>\n",
       "      <td>0.0770</td>\n",
       "      <td>0.0193</td>\n",
       "      <td>-0.2379</td>\n",
       "      <td>0.0007</td>\n",
       "      <td>0.0187</td>\n",
       "      <td>0.0037</td>\n",
       "      <td>0.0520</td>\n",
       "    </tr>\n",
       "    <tr>\n",
       "      <th>1926-08</th>\n",
       "      <td>0.0259</td>\n",
       "      <td>0.2703</td>\n",
       "      <td>0.0650</td>\n",
       "      <td>0.0055</td>\n",
       "      <td>0.1001</td>\n",
       "      <td>-0.0358</td>\n",
       "      <td>-0.0251</td>\n",
       "      <td>0.0425</td>\n",
       "      <td>0.0550</td>\n",
       "      <td>0.0814</td>\n",
       "      <td>0.0472</td>\n",
       "      <td>0.0217</td>\n",
       "      <td>0.0206</td>\n",
       "      <td>0.0210</td>\n",
       "      <td>0.0423</td>\n",
       "      <td>0.0166</td>\n",
       "      <td>0.0055</td>\n",
       "      <td>0.0085</td>\n",
       "      <td>0.0369</td>\n",
       "      <td>-0.0169</td>\n",
       "      <td>0.0217</td>\n",
       "      <td>0.0202</td>\n",
       "      <td>0.0439</td>\n",
       "      <td>-0.0238</td>\n",
       "      <td>0.0488</td>\n",
       "      <td>0.0539</td>\n",
       "      <td>-0.0075</td>\n",
       "      <td>-0.0013</td>\n",
       "      <td>0.0446</td>\n",
       "      <td>0.0676</td>\n",
       "    </tr>\n",
       "    <tr>\n",
       "      <th>1926-09</th>\n",
       "      <td>0.0116</td>\n",
       "      <td>0.0402</td>\n",
       "      <td>0.0126</td>\n",
       "      <td>0.0658</td>\n",
       "      <td>-0.0099</td>\n",
       "      <td>0.0073</td>\n",
       "      <td>-0.0051</td>\n",
       "      <td>0.0069</td>\n",
       "      <td>0.0533</td>\n",
       "      <td>0.0231</td>\n",
       "      <td>-0.0050</td>\n",
       "      <td>0.0015</td>\n",
       "      <td>0.0036</td>\n",
       "      <td>-0.0056</td>\n",
       "      <td>0.0483</td>\n",
       "      <td>0.0273</td>\n",
       "      <td>0.0174</td>\n",
       "      <td>0.0030</td>\n",
       "      <td>-0.0369</td>\n",
       "      <td>0.0204</td>\n",
       "      <td>0.0241</td>\n",
       "      <td>0.0225</td>\n",
       "      <td>0.0019</td>\n",
       "      <td>-0.0554</td>\n",
       "      <td>0.0005</td>\n",
       "      <td>-0.0787</td>\n",
       "      <td>0.0025</td>\n",
       "      <td>-0.0056</td>\n",
       "      <td>-0.0123</td>\n",
       "      <td>-0.0386</td>\n",
       "    </tr>\n",
       "  </tbody>\n",
       "</table>\n",
       "</div>"
      ],
      "text/plain": [
       "           Food    Beer   Smoke   Games   Books   Hshld   Clths    Hlth  \\\n",
       "1926-07  0.0056 -0.0519  0.0129  0.0293  0.1097 -0.0048  0.0808  0.0177   \n",
       "1926-08  0.0259  0.2703  0.0650  0.0055  0.1001 -0.0358 -0.0251  0.0425   \n",
       "1926-09  0.0116  0.0402  0.0126  0.0658 -0.0099  0.0073 -0.0051  0.0069   \n",
       "\n",
       "          Chems   Txtls   Cnstr   Steel   FabPr   ElcEq   Autos   Carry  \\\n",
       "1926-07  0.0814  0.0039  0.0207  0.0407  0.0543  0.0318  0.1639  0.0102   \n",
       "1926-08  0.0550  0.0814  0.0472  0.0217  0.0206  0.0210  0.0423  0.0166   \n",
       "1926-09  0.0533  0.0231 -0.0050  0.0015  0.0036 -0.0056  0.0483  0.0273   \n",
       "\n",
       "          Mines    Coal     Oil    Util   Telcm   Servs   BusEq   Paper  \\\n",
       "1926-07  0.0564  0.0154 -0.0140  0.0704  0.0083  0.0922  0.0206  0.0770   \n",
       "1926-08  0.0055  0.0085  0.0369 -0.0169  0.0217  0.0202  0.0439 -0.0238   \n",
       "1926-09  0.0174  0.0030 -0.0369  0.0204  0.0241  0.0225  0.0019 -0.0554   \n",
       "\n",
       "          Trans   Whlsl   Rtail   Meals     Fin   Other  \n",
       "1926-07  0.0193 -0.2379  0.0007  0.0187  0.0037  0.0520  \n",
       "1926-08  0.0488  0.0539 -0.0075 -0.0013  0.0446  0.0676  \n",
       "1926-09  0.0005 -0.0787  0.0025 -0.0056 -0.0123 -0.0386  "
      ]
     },
     "execution_count": 25,
     "metadata": {},
     "output_type": "execute_result"
    }
   ],
   "source": [
    "ind = k.get_ind_returns()\n",
    "ind.head(3)"
   ]
  },
  {
   "attachments": {},
   "cell_type": "markdown",
   "metadata": {},
   "source": [
    "---"
   ]
  },
  {
   "cell_type": "code",
   "execution_count": 6,
   "metadata": {},
   "outputs": [
    {
     "name": "stdout",
     "output_type": "stream",
     "text": [
      "3.14\n"
     ]
    }
   ],
   "source": [
    "#1\n",
    "var = k.var_gaussian(df['Distressed Securities'], 1, modified= False)\n",
    "print( f'{var*100 :.2f}' )"
   ]
  },
  {
   "cell_type": "code",
   "execution_count": 7,
   "metadata": {},
   "outputs": [
    {
     "name": "stdout",
     "output_type": "stream",
     "text": [
      "4.97\n"
     ]
    }
   ],
   "source": [
    "#2\n",
    "var = k.var_gaussian(df['Distressed Securities'], 1, modified= True)\n",
    "print( f'{var*100 :.2f}' )"
   ]
  },
  {
   "cell_type": "code",
   "execution_count": 8,
   "metadata": {},
   "outputs": [
    {
     "name": "stdout",
     "output_type": "stream",
     "text": [
      "4.26\n"
     ]
    }
   ],
   "source": [
    "#3\n",
    "var = k.var_historic(df['Distressed Securities'], 1)\n",
    "print( f'{var*100 :.2f}' )"
   ]
  },
  {
   "cell_type": "code",
   "execution_count": 9,
   "metadata": {},
   "outputs": [
    {
     "name": "stdout",
     "output_type": "stream",
     "text": [
      "100.00\n"
     ]
    }
   ],
   "source": [
    "#5\n",
    "sectors = ['Books', 'Steel', 'Oil', 'Mines']\n",
    "ind = ind['2013':'2017'][sectors]\n",
    "\n",
    "er = k.annualize_rets(ind)\n",
    "cov = ind.cov()\n",
    "\n",
    "w1 = k.msr(0.1, er, cov)\n",
    "max = np.max(w1)\n",
    "\n",
    "print( f'{max*100 :.2f}' )"
   ]
  },
  {
   "cell_type": "code",
   "execution_count": 10,
   "metadata": {},
   "outputs": [
    {
     "name": "stdout",
     "output_type": "stream",
     "text": [
      "Steel\n"
     ]
    }
   ],
   "source": [
    "#6\n",
    "indx = np.where( w1 == max )[0][0]\n",
    "print(sectors[indx])"
   ]
  },
  {
   "cell_type": "code",
   "execution_count": 11,
   "metadata": {},
   "outputs": [
    {
     "name": "stdout",
     "output_type": "stream",
     "text": [
      "1\n"
     ]
    }
   ],
   "source": [
    "#7\n",
    "elems = w1[w1 > 0.0000000001]\n",
    "print(len(elems))"
   ]
  },
  {
   "cell_type": "code",
   "execution_count": 12,
   "metadata": {},
   "outputs": [
    {
     "name": "stdout",
     "output_type": "stream",
     "text": [
      "47.70\n"
     ]
    }
   ],
   "source": [
    "#8\n",
    "w2 = k.gmv(cov)\n",
    "max = np.max(w2)\n",
    "\n",
    "print( f'{max*100 :.2f}' )"
   ]
  },
  {
   "cell_type": "code",
   "execution_count": 13,
   "metadata": {},
   "outputs": [
    {
     "name": "stdout",
     "output_type": "stream",
     "text": [
      "Books\n"
     ]
    }
   ],
   "source": [
    "#9\n",
    "indx = np.where( w2 == max )[0][0]\n",
    "print(sectors[indx])"
   ]
  },
  {
   "cell_type": "code",
   "execution_count": 14,
   "metadata": {},
   "outputs": [
    {
     "name": "stdout",
     "output_type": "stream",
     "text": [
      "3\n"
     ]
    }
   ],
   "source": [
    "#10\n",
    "elems = w2[w2 > 0.0000000001]\n",
    "print(len(elems))"
   ]
  },
  {
   "cell_type": "code",
   "execution_count": 15,
   "metadata": {},
   "outputs": [
    {
     "name": "stdout",
     "output_type": "stream",
     "text": [
      "21.98\n"
     ]
    }
   ],
   "source": [
    "#11\n",
    "ind = k.get_ind_returns()\n",
    "ind = ind.loc['2018', sectors]\n",
    "\n",
    "cov = ind.cov()\n",
    "\n",
    "vol = k.portfolio_vol(w1, cov)\n",
    "vol *= 12**0.5\n",
    "\n",
    "print( f'{vol*100 :.2f}' )"
   ]
  },
  {
   "cell_type": "code",
   "execution_count": 16,
   "metadata": {},
   "outputs": [
    {
     "name": "stdout",
     "output_type": "stream",
     "text": [
      "18.97\n"
     ]
    }
   ],
   "source": [
    "#12\n",
    "vol = k.portfolio_vol(w2, cov)\n",
    "vol *= 12**0.5\n",
    "\n",
    "print( f'{vol*100 :.2f}' )"
   ]
  },
  {
   "cell_type": "markdown",
   "metadata": {},
   "source": [
    "---"
   ]
  },
  {
   "cell_type": "markdown",
   "metadata": {},
   "source": [
    "For-Loops in python are expensive, and we have so far relied on numpy to do the looping for us efficiently in C. The problem is that it's easy to miss the fact that there is a loop here."
   ]
  },
  {
   "cell_type": "code",
   "execution_count": 17,
   "metadata": {},
   "outputs": [],
   "source": [
    "def compound1(r):\n",
    "    ''' \n",
    "    expm1:  e^{x-1}\n",
    "    log1p: ln(x+1)\n",
    "\n",
    "    ln(x1 + 1) + ln(x2 + 1): ln[ (x1+1)(x2+1) ]\n",
    "    '''\n",
    "    return np.expm1(np.log1p(r).sum())\n",
    "\n",
    "def compound2(r):\n",
    "    return (r+1).prod()-1"
   ]
  },
  {
   "cell_type": "code",
   "execution_count": 26,
   "metadata": {},
   "outputs": [
    {
     "name": "stdout",
     "output_type": "stream",
     "text": [
      "605 µs ± 5.98 µs per loop (mean ± std. dev. of 7 runs, 1000 loops each)\n"
     ]
    }
   ],
   "source": [
    "%timeit compound1(ind[[\"Steel\", \"Fin\", \"Beer\"]])"
   ]
  },
  {
   "cell_type": "code",
   "execution_count": 27,
   "metadata": {},
   "outputs": [
    {
     "name": "stdout",
     "output_type": "stream",
     "text": [
      "569 µs ± 1.67 µs per loop (mean ± std. dev. of 7 runs, 1000 loops each)\n"
     ]
    }
   ],
   "source": [
    "%timeit compound2(ind[[\"Steel\", \"Fin\", \"Beer\"]])"
   ]
  },
  {
   "cell_type": "markdown",
   "metadata": {},
   "source": [
    "---"
   ]
  },
  {
   "cell_type": "markdown",
   "metadata": {},
   "source": []
  }
 ],
 "metadata": {
  "kernelspec": {
   "display_name": "vscode",
   "language": "python",
   "name": "python3"
  },
  "language_info": {
   "codemirror_mode": {
    "name": "ipython",
    "version": 3
   },
   "file_extension": ".py",
   "mimetype": "text/x-python",
   "name": "python",
   "nbconvert_exporter": "python",
   "pygments_lexer": "ipython3",
   "version": "3.8.8"
  },
  "orig_nbformat": 4
 },
 "nbformat": 4,
 "nbformat_minor": 2
}
