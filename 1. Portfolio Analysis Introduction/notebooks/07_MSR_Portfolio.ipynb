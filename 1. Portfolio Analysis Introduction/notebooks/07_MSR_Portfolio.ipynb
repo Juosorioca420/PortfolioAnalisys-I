{
 "cells": [
  {
   "attachments": {},
   "cell_type": "markdown",
   "metadata": {},
   "source": [
    "# Max Sharpe Ratio Portfolio"
   ]
  },
  {
   "cell_type": "code",
   "execution_count": 1,
   "metadata": {},
   "outputs": [],
   "source": [
    "import numpy as np\n",
    "import pandas as pd\n",
    "\n",
    "%load_ext autoreload\n",
    "%autoreload 2\n",
    "import kit as erk    "
   ]
  },
  {
   "cell_type": "code",
   "execution_count": 2,
   "metadata": {},
   "outputs": [],
   "source": [
    "ind = erk.get_ind_returns()\n",
    "\n",
    "# Expected Returns\n",
    "er = erk.annualize_rets(ind[\"1996\":\"2000\"])\n",
    "\n",
    "# Covariance Matrix\n",
    "cov = ind[\"1996\":\"2000\"].cov()"
   ]
  },
  {
   "attachments": {},
   "cell_type": "markdown",
   "metadata": {},
   "source": [
    "We already know how to identify points on the curve if we are given a target rate of return. Instead of minimizing the volatility based on a target return, we want to find that one point on the curve that maximizes the Sharpe Ratio, given the a risk free rate. In other words, the tangent point of the Efficient Frontier and the **Capital Market Line [CML]**."
   ]
  },
  {
   "cell_type": "code",
   "execution_count": 3,
   "metadata": {},
   "outputs": [],
   "source": [
    "from scipy.optimize import minimize\n",
    "def msr(riskfree_rate, er, cov):\n",
    "    \"\"\"\n",
    "    Returns the weights that achieve the Maximun Sharp Ratio Porfolio [MSR]\n",
    "\n",
    "    weights : x   Optimization target parameter\n",
    "    \"\"\"\n",
    "\n",
    "    # Initial values\n",
    "    n = er.shape[0]\n",
    "    init_guess = np.repeat(1/n, n)\n",
    "\n",
    "    # Frontier values\n",
    "    bounds = ((0, 1),) * n \n",
    "\n",
    "\n",
    "    # Constraints   |   weights : x   target\n",
    "\n",
    "    weights_sum_to_1 = {'type': 'eq', # Check when Constrain Function [fun] equals 0\n",
    "                        \n",
    "                        # The funtion is 0 only when Σ(w) == 1  , So, only when x is equal to 1\n",
    "                        'fun': lambda weights: np.sum(weights) - 1 }\n",
    "    \n",
    "\n",
    "    # Objective Function\n",
    "    def neg_sharpe(weights, riskfree_rate, er, cov):\n",
    "        \"\"\"\n",
    "        Returns the negative of the sharpe ratio of the given portfolio\n",
    "        \"\"\"\n",
    "        r = erk.portfolio_return(weights, er)\n",
    "        vol = erk.portfolio_vol(weights, cov)\n",
    "        return -(r - riskfree_rate)/vol\n",
    "\n",
    "\n",
    "    # Optimization Function\n",
    "    weights = minimize(neg_sharpe, \n",
    "                       init_guess, # Initial values\n",
    "                       args= (riskfree_rate, er, cov),\n",
    "                       method= 'SLSQP', # Quadratic Optimizer\n",
    "\n",
    "                       options= {'disp': False},\n",
    "                       constraints= (weights_sum_to_1),\n",
    "                       bounds= bounds\n",
    "                    )\n",
    "    \n",
    "\n",
    "    return weights.x "
   ]
  },
  {
   "attachments": {},
   "cell_type": "markdown",
   "metadata": {},
   "source": [
    "Let's put it all together by adding the CML to the `plot_ef` code."
   ]
  },
  {
   "cell_type": "code",
   "execution_count": 4,
   "metadata": {},
   "outputs": [],
   "source": [
    "def plot_ef(n, er, cov, cml = False, riskfree_rate= 0):\n",
    "    \"\"\"\n",
    "    Plots the multi-asset efficient frontier\n",
    "    \"\"\"\n",
    "    def optimal_weights(n, er, cov):\n",
    "        ''' Volatility Optimization implementation'''\n",
    "        targets = np.linspace(er.min(), er.max(), n)\n",
    "        weights = [erk.minimize_vol(t, er, cov) for t in targets]\n",
    "\n",
    "        return weights\n",
    "\n",
    "    weights = optimal_weights(n, er, cov)\n",
    "    rets = [erk.portfolio_return(w, er) for w in weights]\n",
    "    vols = [erk.portfolio_vol(w, cov) for w in weights]\n",
    "\n",
    "    ef = pd.DataFrame( {\"Returns\": rets, \"Volatility\": vols} )\n",
    "\n",
    "    ax = ef.plot.line(x=\"Volatility\", y=\"Returns\", style='.')\n",
    "\n",
    "    if cml:\n",
    "        ax.set_xlim(left = 0)\n",
    "\n",
    "        # MSR\n",
    "        w_msr = msr(riskfree_rate, er, cov)\n",
    "        r_msr = erk.portfolio_return(w_msr, er)\n",
    "        vol_msr = erk.portfolio_vol(w_msr, cov)\n",
    "\n",
    "        # CML\n",
    "        cml_x = [0, vol_msr]; cml_y = [riskfree_rate, r_msr]\n",
    "        ax.plot(cml_x, cml_y, color='green', marker='o', linestyle='dashed', linewidth=2, markersize= 8)\n",
    "\n",
    "    return ax"
   ]
  },
  {
   "cell_type": "code",
   "execution_count": 5,
   "metadata": {},
   "outputs": [
    {
     "data": {
      "text/plain": [
       "<Axes: xlabel='Volatility'>"
      ]
     },
     "execution_count": 5,
     "metadata": {},
     "output_type": "execute_result"
    },
    {
     "data": {
      "image/png": "[encoded data removed]",
      "text/plain": [
       "<Figure size 640x480 with 1 Axes>"
      ]
     },
     "metadata": {},
     "output_type": "display_data"
    }
   ],
   "source": [
    "erk.plot_ef(n_points= 75, expected_returns= er, cov= cov, style= '-', show_cml= True, riskfree_rate= 0.1)"
   ]
  }
 ],
 "metadata": {
  "kernelspec": {
   "display_name": "Python 3",
   "language": "python",
   "name": "python3"
  },
  "language_info": {
   "codemirror_mode": {
    "name": "ipython",
    "version": 3
   },
   "file_extension": ".py",
   "mimetype": "text/x-python",
   "name": "python",
   "nbconvert_exporter": "python",
   "pygments_lexer": "ipython3",
   "version": "3.11.4"
  }
 },
 "nbformat": 4,
 "nbformat_minor": 2
}
